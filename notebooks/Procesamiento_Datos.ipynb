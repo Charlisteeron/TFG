{
 "cells": [
  {
   "cell_type": "markdown",
   "id": "b2c46090-fbe9-4b8d-b442-f062455796ec",
   "metadata": {},
   "source": [
    "## Procesamiento de los datos"
   ]
  },
  {
   "cell_type": "code",
   "execution_count": 1,
   "id": "4f24d827-b13f-447d-bafa-63795f53513d",
   "metadata": {},
   "outputs": [],
   "source": [
    "import sys\n",
    "sys.path.append('../model')\n",
    "import pickle\n",
    "from export.dumper import import_models\n",
    "\n",
    "models_dict = import_models('../data/models.pkl')\n",
    "for contract, signatures in models_dict.items():\n",
    "    for signature, datos_modelo in signatures.items():\n",
    "        datos_modelo['X_test'].drop(['block_timestamp'], axis=1, inplace=True)"
   ]
  },
  {
   "cell_type": "markdown",
   "id": "0d62e4d9-0919-4b96-bf86-bf1099253557",
   "metadata": {},
   "source": [
    "### Decode del input"
   ]
  },
  {
   "cell_type": "code",
   "execution_count": 2,
   "id": "1e209d3d-87da-40cb-abb3-9d6ba18dd642",
   "metadata": {},
   "outputs": [],
   "source": [
    "from web3_input_decoder import decode_constructor, decode_function\n",
    "import requests"
   ]
  },
  {
   "cell_type": "markdown",
   "id": "c3149f24-bfe7-42f0-9173-2e4c68fe6bd3",
   "metadata": {},
   "source": [
    "Para hacer el decode neccesitamos el ABI del contrato y el input\n",
    "\n",
    "Sacamos el ABI desde la API de etherscan"
   ]
  },
  {
   "cell_type": "code",
   "execution_count": 3,
   "id": "99bf7c29-b514-483f-9b77-e912f81d3044",
   "metadata": {},
   "outputs": [],
   "source": [
    "API = \"\" #API KEY\n",
    "\n",
    "address = \"0x8457ca5040ad67fdebbcc8edce889a335bc0fbfb\"\n",
    "request = f\"https://api.etherscan.io/api?module=contract&action=getabi&address={address}&apikey={API}\""
   ]
  },
  {
   "cell_type": "markdown",
   "id": "4666e04f-8b5e-4a87-9697-e49c31b3ee3d",
   "metadata": {},
   "source": [
    "La respuesta devuelve un json (JavaScriptObjectNotation)\n",
    "\n",
    "Al ser un objeto de JavaScript los true y false no sirven en Python\n",
    "\n",
    "También necesitamos la lista (no el string)"
   ]
  },
  {
   "cell_type": "code",
   "execution_count": 4,
   "id": "d8494eb9-b939-48cb-90db-16dbfde7da76",
   "metadata": {},
   "outputs": [
    {
     "name": "stdout",
     "output_type": "stream",
     "text": [
      "<Response [200]>\n"
     ]
    }
   ],
   "source": [
    "response = requests.get(request)\n",
    "print(response)\n",
    "\n",
    "abi = response.json().get(\"result\")\n",
    "\n",
    "# La respuesta es en json (JavaScriptObjectNotation) por lo que los true y false no sirven en python\n",
    "# También necesitamos la lista (no el string)\n",
    "abi = abi.replace(\"true\", \"True\").replace(\"false\", \"False\")\n",
    "abi = eval(abi)"
   ]
  },
  {
   "cell_type": "code",
   "execution_count": 5,
   "id": "d07a058a-2965-49a6-b757-6cbc98f9559b",
   "metadata": {},
   "outputs": [
    {
     "data": {
      "text/plain": [
       "[('address', 'to', '0x28c6c06298d514db089934071355e5743bf21d60'),\n",
       " ('uint256', 'value', 78544309235500000000000)]"
      ]
     },
     "execution_count": 5,
     "metadata": {},
     "output_type": "execute_result"
    }
   ],
   "source": [
    "example_tsx_input = \"0xa9059cbb00000000000000000000000028c6c06298d514db089934071355e5743bf21d600000000000000000000000000000000000000000000010a1e541d01a0ab0b800\"\n",
    "\n",
    "decode_function(abi, example_tsx_input)"
   ]
  },
  {
   "cell_type": "markdown",
   "id": "424f9dfd-12cb-40ba-9c37-ce8504f4e9b7",
   "metadata": {},
   "source": [
    "### Ejemplo de conjunto de datos procesados"
   ]
  },
  {
   "cell_type": "markdown",
   "id": "7a6c5921-d49a-4908-9bc5-9850604e82f8",
   "metadata": {},
   "source": [
    "Ejemplo de subcojunto de datos procesados de una signatura de un contrato una vez han sido aplicados todos los procesamientos."
   ]
  },
  {
   "cell_type": "code",
   "execution_count": 6,
   "id": "3f1d539e-ac30-4856-bb62-dd145672c282",
   "metadata": {},
   "outputs": [
    {
     "data": {
      "text/html": [
       "<div>\n",
       "<style scoped>\n",
       "    .dataframe tbody tr th:only-of-type {\n",
       "        vertical-align: middle;\n",
       "    }\n",
       "\n",
       "    .dataframe tbody tr th {\n",
       "        vertical-align: top;\n",
       "    }\n",
       "\n",
       "    .dataframe thead th {\n",
       "        text-align: right;\n",
       "    }\n",
       "</style>\n",
       "<table border=\"1\" class=\"dataframe\">\n",
       "  <thead>\n",
       "    <tr style=\"text-align: right;\">\n",
       "      <th></th>\n",
       "      <th>input_len</th>\n",
       "      <th>uint256__l2Value</th>\n",
       "      <th>_l2Value_iszero</th>\n",
       "      <th>bytes__calldata</th>\n",
       "      <th>uint256__l2GasLimit</th>\n",
       "      <th>_l2GasLimit_iszero</th>\n",
       "      <th>uint256__l2GasPerPubdataByteLimit</th>\n",
       "      <th>_l2GasPerPubdataByteLimit_iszero</th>\n",
       "      <th>bytes[]__factoryDeps</th>\n",
       "    </tr>\n",
       "    <tr>\n",
       "      <th>hash</th>\n",
       "      <th></th>\n",
       "      <th></th>\n",
       "      <th></th>\n",
       "      <th></th>\n",
       "      <th></th>\n",
       "      <th></th>\n",
       "      <th></th>\n",
       "      <th></th>\n",
       "      <th></th>\n",
       "    </tr>\n",
       "  </thead>\n",
       "  <tbody>\n",
       "    <tr>\n",
       "      <th>0xd59620cbcc49e080e548da7bea7b8b56883dfb9ab9baede42a13676469cce04b</th>\n",
       "      <td>586.0</td>\n",
       "      <td>7.0</td>\n",
       "      <td>0.0</td>\n",
       "      <td>3.0</td>\n",
       "      <td>6.0</td>\n",
       "      <td>0.0</td>\n",
       "      <td>3.0</td>\n",
       "      <td>0.0</td>\n",
       "      <td>2.0</td>\n",
       "    </tr>\n",
       "    <tr>\n",
       "      <th>0xfe622ffb292ac8945f143b8b6d4939e76ac54f537d0b3e755395aef385e46f43</th>\n",
       "      <td>586.0</td>\n",
       "      <td>17.0</td>\n",
       "      <td>0.0</td>\n",
       "      <td>3.0</td>\n",
       "      <td>6.0</td>\n",
       "      <td>0.0</td>\n",
       "      <td>3.0</td>\n",
       "      <td>0.0</td>\n",
       "      <td>2.0</td>\n",
       "    </tr>\n",
       "    <tr>\n",
       "      <th>0x961a0353bd81fa267ba98759defc0f696e9620be7e7095e84e648a952b626906</th>\n",
       "      <td>586.0</td>\n",
       "      <td>16.0</td>\n",
       "      <td>0.0</td>\n",
       "      <td>3.0</td>\n",
       "      <td>6.0</td>\n",
       "      <td>0.0</td>\n",
       "      <td>3.0</td>\n",
       "      <td>0.0</td>\n",
       "      <td>2.0</td>\n",
       "    </tr>\n",
       "    <tr>\n",
       "      <th>0xfecc1518c225b09bf0aff39848195634637c29813ab924ab046cfbf2a917a1e4</th>\n",
       "      <td>586.0</td>\n",
       "      <td>17.0</td>\n",
       "      <td>0.0</td>\n",
       "      <td>3.0</td>\n",
       "      <td>6.0</td>\n",
       "      <td>0.0</td>\n",
       "      <td>3.0</td>\n",
       "      <td>0.0</td>\n",
       "      <td>2.0</td>\n",
       "    </tr>\n",
       "    <tr>\n",
       "      <th>0x95ad1d18f42a60c88c0a79f6bf0b2ff32cfcf2e6c079cc31a6f011a49a772571</th>\n",
       "      <td>586.0</td>\n",
       "      <td>18.0</td>\n",
       "      <td>0.0</td>\n",
       "      <td>3.0</td>\n",
       "      <td>6.0</td>\n",
       "      <td>0.0</td>\n",
       "      <td>3.0</td>\n",
       "      <td>0.0</td>\n",
       "      <td>2.0</td>\n",
       "    </tr>\n",
       "  </tbody>\n",
       "</table>\n",
       "</div>"
      ],
      "text/plain": [
       "                                                    input_len  \\\n",
       "hash                                                            \n",
       "0xd59620cbcc49e080e548da7bea7b8b56883dfb9ab9bae...      586.0   \n",
       "0xfe622ffb292ac8945f143b8b6d4939e76ac54f537d0b3...      586.0   \n",
       "0x961a0353bd81fa267ba98759defc0f696e9620be7e709...      586.0   \n",
       "0xfecc1518c225b09bf0aff39848195634637c29813ab92...      586.0   \n",
       "0x95ad1d18f42a60c88c0a79f6bf0b2ff32cfcf2e6c079c...      586.0   \n",
       "\n",
       "                                                    uint256__l2Value  \\\n",
       "hash                                                                   \n",
       "0xd59620cbcc49e080e548da7bea7b8b56883dfb9ab9bae...               7.0   \n",
       "0xfe622ffb292ac8945f143b8b6d4939e76ac54f537d0b3...              17.0   \n",
       "0x961a0353bd81fa267ba98759defc0f696e9620be7e709...              16.0   \n",
       "0xfecc1518c225b09bf0aff39848195634637c29813ab92...              17.0   \n",
       "0x95ad1d18f42a60c88c0a79f6bf0b2ff32cfcf2e6c079c...              18.0   \n",
       "\n",
       "                                                    _l2Value_iszero  \\\n",
       "hash                                                                  \n",
       "0xd59620cbcc49e080e548da7bea7b8b56883dfb9ab9bae...              0.0   \n",
       "0xfe622ffb292ac8945f143b8b6d4939e76ac54f537d0b3...              0.0   \n",
       "0x961a0353bd81fa267ba98759defc0f696e9620be7e709...              0.0   \n",
       "0xfecc1518c225b09bf0aff39848195634637c29813ab92...              0.0   \n",
       "0x95ad1d18f42a60c88c0a79f6bf0b2ff32cfcf2e6c079c...              0.0   \n",
       "\n",
       "                                                    bytes__calldata  \\\n",
       "hash                                                                  \n",
       "0xd59620cbcc49e080e548da7bea7b8b56883dfb9ab9bae...              3.0   \n",
       "0xfe622ffb292ac8945f143b8b6d4939e76ac54f537d0b3...              3.0   \n",
       "0x961a0353bd81fa267ba98759defc0f696e9620be7e709...              3.0   \n",
       "0xfecc1518c225b09bf0aff39848195634637c29813ab92...              3.0   \n",
       "0x95ad1d18f42a60c88c0a79f6bf0b2ff32cfcf2e6c079c...              3.0   \n",
       "\n",
       "                                                    uint256__l2GasLimit  \\\n",
       "hash                                                                      \n",
       "0xd59620cbcc49e080e548da7bea7b8b56883dfb9ab9bae...                  6.0   \n",
       "0xfe622ffb292ac8945f143b8b6d4939e76ac54f537d0b3...                  6.0   \n",
       "0x961a0353bd81fa267ba98759defc0f696e9620be7e709...                  6.0   \n",
       "0xfecc1518c225b09bf0aff39848195634637c29813ab92...                  6.0   \n",
       "0x95ad1d18f42a60c88c0a79f6bf0b2ff32cfcf2e6c079c...                  6.0   \n",
       "\n",
       "                                                    _l2GasLimit_iszero  \\\n",
       "hash                                                                     \n",
       "0xd59620cbcc49e080e548da7bea7b8b56883dfb9ab9bae...                 0.0   \n",
       "0xfe622ffb292ac8945f143b8b6d4939e76ac54f537d0b3...                 0.0   \n",
       "0x961a0353bd81fa267ba98759defc0f696e9620be7e709...                 0.0   \n",
       "0xfecc1518c225b09bf0aff39848195634637c29813ab92...                 0.0   \n",
       "0x95ad1d18f42a60c88c0a79f6bf0b2ff32cfcf2e6c079c...                 0.0   \n",
       "\n",
       "                                                    uint256__l2GasPerPubdataByteLimit  \\\n",
       "hash                                                                                    \n",
       "0xd59620cbcc49e080e548da7bea7b8b56883dfb9ab9bae...                                3.0   \n",
       "0xfe622ffb292ac8945f143b8b6d4939e76ac54f537d0b3...                                3.0   \n",
       "0x961a0353bd81fa267ba98759defc0f696e9620be7e709...                                3.0   \n",
       "0xfecc1518c225b09bf0aff39848195634637c29813ab92...                                3.0   \n",
       "0x95ad1d18f42a60c88c0a79f6bf0b2ff32cfcf2e6c079c...                                3.0   \n",
       "\n",
       "                                                    _l2GasPerPubdataByteLimit_iszero  \\\n",
       "hash                                                                                   \n",
       "0xd59620cbcc49e080e548da7bea7b8b56883dfb9ab9bae...                               0.0   \n",
       "0xfe622ffb292ac8945f143b8b6d4939e76ac54f537d0b3...                               0.0   \n",
       "0x961a0353bd81fa267ba98759defc0f696e9620be7e709...                               0.0   \n",
       "0xfecc1518c225b09bf0aff39848195634637c29813ab92...                               0.0   \n",
       "0x95ad1d18f42a60c88c0a79f6bf0b2ff32cfcf2e6c079c...                               0.0   \n",
       "\n",
       "                                                    bytes[]__factoryDeps  \n",
       "hash                                                                      \n",
       "0xd59620cbcc49e080e548da7bea7b8b56883dfb9ab9bae...                   2.0  \n",
       "0xfe622ffb292ac8945f143b8b6d4939e76ac54f537d0b3...                   2.0  \n",
       "0x961a0353bd81fa267ba98759defc0f696e9620be7e709...                   2.0  \n",
       "0xfecc1518c225b09bf0aff39848195634637c29813ab92...                   2.0  \n",
       "0x95ad1d18f42a60c88c0a79f6bf0b2ff32cfcf2e6c079c...                   2.0  "
      ]
     },
     "execution_count": 6,
     "metadata": {},
     "output_type": "execute_result"
    }
   ],
   "source": [
    "models_dict['0x32400084c286cf3e17e7b677ea9583e60a000324']['0xeb672419']['X_test'].head()"
   ]
  }
 ],
 "metadata": {
  "kernelspec": {
   "display_name": "Poetry",
   "language": "python",
   "name": "poetry-kernel"
  },
  "language_info": {
   "codemirror_mode": {
    "name": "ipython",
    "version": 3
   },
   "file_extension": ".py",
   "mimetype": "text/x-python",
   "name": "python",
   "nbconvert_exporter": "python",
   "pygments_lexer": "ipython3",
   "version": "3.12.2"
  }
 },
 "nbformat": 4,
 "nbformat_minor": 5
}
